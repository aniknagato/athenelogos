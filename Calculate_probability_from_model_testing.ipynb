{
 "cells": [
  {
   "cell_type": "code",
   "execution_count": 1,
   "metadata": {},
   "outputs": [
    {
     "name": "stderr",
     "output_type": "stream",
     "text": [
      "C:\\Users\\anik\\Anaconda3\\lib\\site-packages\\h5py\\__init__.py:36: FutureWarning: Conversion of the second argument of issubdtype from `float` to `np.floating` is deprecated. In future, it will be treated as `np.float64 == np.dtype(float).type`.\n",
      "  from ._conv import register_converters as _register_converters\n"
     ]
    }
   ],
   "source": [
    "import scipy.ndimage.filters\n",
    "import numpy as np\n",
    "from skimage import feature\n",
    "import glob\n",
    "import matplotlib.pyplot as plt\n",
    "\n",
    "from PIL import Image\n",
    "\n",
    "from sklearn.externals import joblib\n",
    "import tensorflow as tf\n",
    "# from nets import inception\n",
    "# from preprocessing import inception_preprocessing\n"
   ]
  },
  {
   "cell_type": "code",
   "execution_count": 3,
   "metadata": {},
   "outputs": [],
   "source": [
    "# image to features\n",
    "def feature_computation(image_arr):\n",
    "    \n",
    "#     image to numpy array\n",
    "\n",
    "#     image = Image.fromarray(image_arr)\n",
    "\n",
    "    image = image_arr   \n",
    "    \n",
    "    \n",
    "    features = []\n",
    "    laplacian0 = scipy.ndimage.filters.laplace(image[:,:,0])\n",
    "    laplacian1 = scipy.ndimage.filters.laplace(image[:,:,1])\n",
    "    laplacian2 = scipy.ndimage.filters.laplace(image[:,:,2])\n",
    "    \n",
    "#     lap_mat0 = np.matrix(laplacian[:,:,0])\n",
    "#     lap_mat1 = np.matrix(laplacian[:,:,1])\n",
    "#     lap_mat2 = np.matrix(laplacian[:,:,2])\n",
    "\n",
    "    lap_mat0 = laplacian0\n",
    "    lap_mat1 = laplacian1\n",
    "    lap_mat2 = laplacian2\n",
    "    \n",
    "    \n",
    "    \n",
    "    features.append(lap_mat0.sum())\n",
    "    features.append(lap_mat1.sum())\n",
    "    features.append(lap_mat2.sum())\n",
    "    \n",
    "#     image_gray = image.convert('LA')\n",
    "    image_gray = (image[:,:,0] + image[:,:,1] + image[:,:,2])/3\n",
    "#     gray_array = np.array(image_gray)[:,:,0]\n",
    "    gray_array = image_gray\n",
    "    edges = feature.canny(gray_array,sigma = 3,low_threshold=5, high_threshold=20)\n",
    "    max_val = np.amax(edges)\n",
    "\n",
    "    \n",
    "    for j in range(0,edges.shape[1]):\n",
    "        for i in range(0,edges.shape[0]):\n",
    "            if edges[i][j] > .1*max_val:\n",
    "                edges[i][j] = 0\n",
    "                if edges[i+1][j] < .1*max_val:\n",
    "                    break\n",
    "        for ii in range(0,edges.shape[0]):\n",
    "            i = edges.shape[0] - ii -1\n",
    "            if edges[i][j] > .1*max_val:\n",
    "                edges[i][j] = 0\n",
    "                if edges[i-1][j] < .1*max_val:\n",
    "                    break\n",
    "                    \n",
    "    features.append(edges.sum())\n",
    "    \n",
    "    return features\n",
    "\n",
    "    \n",
    "\n",
    "    \n",
    "    "
   ]
  },
  {
   "cell_type": "code",
   "execution_count": 21,
   "metadata": {},
   "outputs": [],
   "source": [
    "def random_forest_predict_probability(image_arr):\n",
    "    \n",
    "#     image = Image.fromarray(image_arr, 'RGB')\n",
    "\n",
    "\n",
    "#     ind1,ind2,ind3,ind4 = image_arr_list.shape\n",
    "\n",
    "\n",
    "\n",
    "#     print(\"print input inside predictor \"+str(image_arr_list.shape))\n",
    "#     print(\"print input list's length \"+str(ind1))\n",
    "    \n",
    "    predictions = []\n",
    "    feature_vec = feature_computation(image_arr)\n",
    "    model = joblib.load(\"radom_forest_model.pkl\")\n",
    "    print(model.classes_)\n",
    "    single_prediction = model.predict_proba([feature_vec])\n",
    "    predictions.append(single_prediction)\n",
    "\n",
    "            \n",
    "    \n",
    "    return predictions\n",
    "    "
   ]
  },
  {
   "cell_type": "code",
   "execution_count": 22,
   "metadata": {},
   "outputs": [
    {
     "name": "stdout",
     "output_type": "stream",
     "text": [
      "(106, 100, 3)\n",
      "[False  True]\n"
     ]
    },
    {
     "data": {
      "text/plain": [
       "[array([[0.64, 0.36]])]"
      ]
     },
     "execution_count": 22,
     "metadata": {},
     "output_type": "execute_result"
    }
   ],
   "source": [
    "image_for_explanation=[]\n",
    "for filename in glob.glob('./explain_images/*.png'):\n",
    "    im=Image.open(filename)\n",
    "    image_for_explanation.append(im.copy())\n",
    "\n",
    "#     image_raw = tf.image.decode_png(im, channels=3)\n",
    "#     image_for_explanation(image_raw.copy())\n",
    "    im.close()\n",
    "    \n",
    "    \n",
    "image = image_for_explanation[2]\n",
    "id1 , id2 = image.size\n",
    "\n",
    "im_arr = np.asarray(image)\n",
    "# im_arr_arr = np.asarray([im_arr])\n",
    "\n",
    "# print(\"image prediction:\",str(random_forest_predictor(im_arr_arr)))\n",
    "# print(\"print image array size \"+str(im_arr.shape))\n",
    "# im_resized = np.reshape(im_arr,(id1,id2,3))\n",
    "# print(\"print array after resized \"+str(im_resized.shape))\n",
    "\n",
    "\n",
    "test_image =  im_arr\n",
    "\n",
    "print(test_image.shape)\n",
    "\n",
    "random_forest_predict_probability(test_image)"
   ]
  },
  {
   "cell_type": "code",
   "execution_count": 16,
   "metadata": {},
   "outputs": [
    {
     "data": {
      "text/plain": [
       "array([False,  True])"
      ]
     },
     "execution_count": 16,
     "metadata": {},
     "output_type": "execute_result"
    }
   ],
   "source": [
    "model = joblib.load(\"radom_forest_model.pkl\")\n",
    "model.classes_\n"
   ]
  }
 ],
 "metadata": {
  "kernelspec": {
   "display_name": "Python 3",
   "language": "python",
   "name": "python3"
  },
  "language_info": {
   "codemirror_mode": {
    "name": "ipython",
    "version": 3
   },
   "file_extension": ".py",
   "mimetype": "text/x-python",
   "name": "python",
   "nbconvert_exporter": "python",
   "pygments_lexer": "ipython3",
   "version": "3.6.5"
  }
 },
 "nbformat": 4,
 "nbformat_minor": 2
}
