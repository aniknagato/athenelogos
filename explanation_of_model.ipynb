{
 "cells": [
  {
   "cell_type": "code",
   "execution_count": 32,
   "metadata": {},
   "outputs": [],
   "source": [
    "import scipy.ndimage.filters\n",
    "import numpy as np\n",
    "from skimage import feature\n",
    "import glob\n",
    "from PIL import Image\n",
    "\n",
    "from sklearn.externals import joblib\n"
   ]
  },
  {
   "cell_type": "code",
   "execution_count": 33,
   "metadata": {},
   "outputs": [],
   "source": [
    "# image to features\n",
    "def feature_computation(image):\n",
    "    features = []\n",
    "    laplacian = scipy.ndimage.filters.laplace(image)\n",
    "    lap_mat0 = np.matrix(laplacian[:,:,0])\n",
    "    lap_mat1 = np.matrix(laplacian[:,:,1])\n",
    "    lap_mat2 = np.matrix(laplacian[:,:,2])\n",
    "    \n",
    "    features.append(lap_mat0.sum())\n",
    "    features.append(lap_mat1.sum())\n",
    "    features.append(lap_mat2.sum())\n",
    "    \n",
    "    image_gray = image.convert('LA')\n",
    "    gray_array = np.array(image_gray)[:,:,0]\n",
    "    edges = feature.canny(gray_array,sigma = 3,low_threshold=5, high_threshold=20)\n",
    "    max_val = np.amax(edges)\n",
    "\n",
    "    \n",
    "    for j in range(0,edges.shape[1]):\n",
    "        for i in range(0,edges.shape[0]):\n",
    "            if edges[i][j] > .1*max_val:\n",
    "                edges[i][j] = 0\n",
    "                if edges[i+1][j] < .1*max_val:\n",
    "                    break\n",
    "        for ii in range(0,edges.shape[0]):\n",
    "            i = edges.shape[0] - ii -1\n",
    "            if edges[i][j] > .1*max_val:\n",
    "                edges[i][j] = 0\n",
    "                if edges[i-1][j] < .1*max_val:\n",
    "                    break\n",
    "                    \n",
    "    features.append(edges.sum())\n",
    "    \n",
    "    return features\n",
    "\n",
    "    \n",
    "\n",
    "    \n",
    "    "
   ]
  },
  {
   "cell_type": "code",
   "execution_count": 34,
   "metadata": {},
   "outputs": [],
   "source": [
    "def random_forest_predictor(image):\n",
    "    feature_vec = feature_computation(image)\n",
    "    model = joblib.load(\"radom_forest_model.pkl\")\n",
    "    \n",
    "    return model.predict([feature_vec])\n",
    "    "
   ]
  },
  {
   "cell_type": "code",
   "execution_count": 35,
   "metadata": {},
   "outputs": [
    {
     "name": "stdout",
     "output_type": "stream",
     "text": [
      "[2219517, 496822, 1392205, 48]prediction: [ True]\n",
      "[1981178, 543742, 1726984, 19]prediction: [ True]\n",
      "[2488116, 504349, 802735, 16]prediction: [ True]\n",
      "[3056973, 688953, 1023098, 209]prediction: [ True]\n",
      "[2945516, 566089, 645067, 117]prediction: [ True]\n",
      "[2039076, 477923, 657913, 15]prediction: [ True]\n",
      "[3469747, 847254, 825527, 503]prediction: [ True]\n",
      "[3140536, 635418, 502830, 139]prediction: [ True]\n",
      "[3715506, 465311, 511663, 232]prediction: [ True]\n",
      "[2974939, 618256, 381461, 324]prediction: [ True]\n",
      "[2596425, 647072, 727063, 278]prediction: [ True]\n",
      "[3012269, 703842, 1765873, 81]prediction: [ True]\n",
      "[3212288, 921969, 1337999, 516]prediction: [ True]\n",
      "[1860288, 514271, 1263969, 229]prediction: [ True]\n"
     ]
    }
   ],
   "source": [
    "image_for_explanation=[]\n",
    "for filename in glob.glob('./explain_images/*.png'):\n",
    "    im=Image.open(filename)\n",
    "    image_for_explanation.append(im.copy())\n",
    "    im.close()\n",
    "    \n",
    "for im in image_for_explanation:\n",
    "    print(str(feature_computation(im))+ \"prediction: \" + str(random_forest_predictor(im)) )\n",
    "    \n",
    "    \n",
    "    "
   ]
  }
 ],
 "metadata": {
  "kernelspec": {
   "display_name": "Python 3",
   "language": "python",
   "name": "python3"
  },
  "language_info": {
   "codemirror_mode": {
    "name": "ipython",
    "version": 3
   },
   "file_extension": ".py",
   "mimetype": "text/x-python",
   "name": "python",
   "nbconvert_exporter": "python",
   "pygments_lexer": "ipython3",
   "version": "3.6.5"
  }
 },
 "nbformat": 4,
 "nbformat_minor": 2
}
