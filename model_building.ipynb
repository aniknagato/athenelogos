{
 "cells": [
  {
   "cell_type": "code",
   "execution_count": 28,
   "metadata": {},
   "outputs": [],
   "source": [
    "import tensorflow as tf\n",
    "from PIL import Image\n",
    "import glob\n",
    "import numpy as np\n",
    "import scipy.ndimage.filters\n",
    "import matplotlib.pyplot as plt\n",
    "from sklearn.model_selection import train_test_split\n",
    "import pickle\n"
   ]
  },
  {
   "cell_type": "code",
   "execution_count": 39,
   "metadata": {},
   "outputs": [
    {
     "name": "stdout",
     "output_type": "stream",
     "text": [
      "13779\n",
      "13779\n",
      "13779\n",
      "13779\n",
      "13779\n",
      "13779\n",
      "13779\n",
      "13779\n",
      "27558\n",
      "27558\n"
     ]
    }
   ],
   "source": [
    "\n",
    "\n",
    "with open('./pickle/hist_lap_infect0.pickle', 'rb') as handle:\n",
    "    hist_lap_infect0 = pickle.load(handle)\n",
    "    \n",
    "    \n",
    "with open('./pickle/hist_lap_infect1.pickle', 'rb') as handle:\n",
    "    hist_lap_infect1 = pickle.load(handle)\n",
    "    \n",
    "with open('./pickle/hist_lap_infect2.pickle', 'rb') as handle:\n",
    "    hist_lap_infect2 = pickle.load(handle)\n",
    "    \n",
    "with open('./pickle/hist_lap_uninfect0.pickle', 'rb') as handle:\n",
    "    hist_lap_uninfect0 = pickle.load(handle)\n",
    "    \n",
    "with open('./pickle/hist_lap_uninfect1.pickle', 'rb') as handle:\n",
    "    hist_lap_uninfect1 = pickle.load(handle)\n",
    "    \n",
    "with open('./pickle/hist_lap_uninfect2.pickle', 'rb') as handle:\n",
    "    hist_lap_uninfect2 = pickle.load(handle)\n",
    "    \n",
    "with open('./pickle/sum_inner_edges_infect.pickle', 'rb') as handle:\n",
    "    sum_inner_edges_infect = pickle.load(handle)\n",
    "    \n",
    "with open('./pickle/sum_inner_edges_uninfect.pickle', 'rb') as handle:\n",
    "    sum_inner_edges_uninfect = pickle.load(handle)\n",
    "    \n",
    "    \n",
    "print(len(hist_lap_infect0))\n",
    "print(len(hist_lap_infect1))\n",
    "print(len(hist_lap_infect2))\n",
    "print(len(hist_lap_uninfect0))\n",
    "print(len(hist_lap_uninfect1))\n",
    "print(len(hist_lap_uninfect2))\n",
    "print(len(sum_inner_edges_infect))\n",
    "print(len(sum_inner_edges_uninfect))\n",
    "\n",
    "data = []\n",
    "\n",
    "data_level = []\n",
    "\n",
    "for i in range(0,len(hist_lap_infect0)):\n",
    "    data.append([hist_lap_infect0[i],hist_lap_infect1[i],hist_lap_infect2[i],sum_inner_edges_infect[i]])\n",
    "    data_level.append(True)\n",
    "    data.append([hist_lap_uninfect0[i],hist_lap_uninfect1[i],hist_lap_uninfect2[i],sum_inner_edges_uninfect[i]])\n",
    "    data_level.append(False)\n",
    "    \n",
    "print(len(data_level))\n",
    "print(len(data))\n",
    "   "
   ]
  },
  {
   "cell_type": "code",
   "execution_count": 40,
   "metadata": {},
   "outputs": [
    {
     "name": "stdout",
     "output_type": "stream",
     "text": [
      "train data:22047 test data: 5511\n"
     ]
    }
   ],
   "source": [
    "test_length = (int)(.2*len(data))\n",
    "\n",
    "test_data = data[0:test_length]\n",
    "test_level = data_level[0:test_length]\n",
    "\n",
    "train_data = data[test_length:len(data)]\n",
    "train_level = data_level[test_length:len(data)]\n",
    "\n",
    "\n",
    "print(\"train data:\" + str(len(train_data)) + \" test data: \" + str(len(test_data)))\n",
    "\n"
   ]
  },
  {
   "cell_type": "code",
   "execution_count": 41,
   "metadata": {},
   "outputs": [
    {
     "name": "stdout",
     "output_type": "stream",
     "text": [
      "[False, True, False, True, False, True, False, True, False, True, False, True, False, True, False, True, False, True, False, True, False, True, False, True, False, True, False, True, False, True]\n"
     ]
    }
   ],
   "source": [
    "print(train_level[0:30])"
   ]
  },
  {
   "cell_type": "code",
   "execution_count": 42,
   "metadata": {},
   "outputs": [
    {
     "name": "stdout",
     "output_type": "stream",
     "text": [
      "{'n_estimators': 1}\n"
     ]
    }
   ],
   "source": [
    "from sklearn.model_selection import GridSearchCV\n",
    "from sklearn.ensemble import RandomForestClassifier\n",
    "\n",
    "param_grid = [{'n_estimators':[1,2,3,10,30]}]\n",
    "\n",
    "forest_class = RandomForestClassifier()\n",
    "grid_search = GridSearchCV(forest_class,param_grid,cv=5,scoring='accuracy')\n",
    "grid_search.fit(train_data,train_level)\n",
    "\n",
    "print(grid_search.best_params_)\n",
    "\n",
    "model = grid_search.best_estimator_\n",
    "\n"
   ]
  },
  {
   "cell_type": "code",
   "execution_count": 43,
   "metadata": {},
   "outputs": [
    {
     "data": {
      "text/plain": [
       "array([1.        , 1.        , 0.99977324, 0.99977319, 1.        ])"
      ]
     },
     "execution_count": 43,
     "metadata": {},
     "output_type": "execute_result"
    }
   ],
   "source": [
    "from sklearn.model_selection import GridSearchCV\n",
    "from sklearn.ensemble import RandomForestClassifier\n",
    "from sklearn.model_selection import cross_val_score\n",
    "\n",
    "\n",
    "forest_class = RandomForestClassifier(n_estimators=1)\n",
    "\n",
    "cross_val_score(forest_class,train_data,train_level,cv=5,scoring='accuracy')\n",
    "\n",
    "\n"
   ]
  },
  {
   "cell_type": "code",
   "execution_count": 44,
   "metadata": {},
   "outputs": [
    {
     "name": "stdout",
     "output_type": "stream",
     "text": [
      "[[2755    0]\n",
      " [   2 2754]]\n",
      "[True, False, True, False, True, False, True, False, True, False]\n",
      "[ True False  True False  True False  True False  True False]\n"
     ]
    }
   ],
   "source": [
    "from sklearn.metrics import confusion_matrix\n",
    "\n",
    "test_predict = model.predict(test_data)\n",
    "print(confusion_matrix(test_level,test_predict))\n",
    "\n",
    "print(test_level[0:10])\n",
    "print(test_predict[0:10])\n"
   ]
  },
  {
   "cell_type": "code",
   "execution_count": 45,
   "metadata": {},
   "outputs": [
    {
     "data": {
      "text/plain": [
       "['radom_forest_model.pkl']"
      ]
     },
     "execution_count": 45,
     "metadata": {},
     "output_type": "execute_result"
    }
   ],
   "source": [
    "from sklearn.externals import joblib\n",
    "\n",
    "joblib.dump(model,\"radom_forest_model.pkl\")"
   ]
  }
 ],
 "metadata": {
  "kernelspec": {
   "display_name": "Python 3",
   "language": "python",
   "name": "python3"
  },
  "language_info": {
   "codemirror_mode": {
    "name": "ipython",
    "version": 3
   },
   "file_extension": ".py",
   "mimetype": "text/x-python",
   "name": "python",
   "nbconvert_exporter": "python",
   "pygments_lexer": "ipython3",
   "version": "3.6.5"
  }
 },
 "nbformat": 4,
 "nbformat_minor": 2
}
