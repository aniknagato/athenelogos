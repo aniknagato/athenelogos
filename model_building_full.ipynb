{
 "cells": [
  {
   "cell_type": "code",
   "execution_count": 1,
   "metadata": {},
   "outputs": [
    {
     "name": "stderr",
     "output_type": "stream",
     "text": [
      "C:\\Users\\anik\\Anaconda3\\lib\\site-packages\\h5py\\__init__.py:36: FutureWarning: Conversion of the second argument of issubdtype from `float` to `np.floating` is deprecated. In future, it will be treated as `np.float64 == np.dtype(float).type`.\n",
      "  from ._conv import register_converters as _register_converters\n"
     ]
    }
   ],
   "source": [
    "import tensorflow as tf\n",
    "from PIL import Image\n",
    "import glob\n",
    "import numpy as np\n",
    "import scipy.ndimage.filters\n",
    "import matplotlib.pyplot as plt\n",
    "from sklearn.model_selection import train_test_split\n",
    "import pickle\n",
    "import scipy.ndimage.filters\n",
    "import numpy as np\n",
    "from skimage import feature\n",
    "import glob\n",
    "from PIL import Image\n",
    "\n",
    "from sklearn.externals import joblib\n"
   ]
  },
  {
   "cell_type": "code",
   "execution_count": 2,
   "metadata": {},
   "outputs": [],
   "source": [
    "# image to features\n",
    "def feature_computation(image):\n",
    "    features = []\n",
    "    laplacian = scipy.ndimage.filters.laplace(image)\n",
    "    lap_mat0 = np.matrix(laplacian[:,:,0])\n",
    "    lap_mat1 = np.matrix(laplacian[:,:,1])\n",
    "    lap_mat2 = np.matrix(laplacian[:,:,2])\n",
    "    \n",
    "    features.append(lap_mat0.sum())\n",
    "    features.append(lap_mat1.sum())\n",
    "    features.append(lap_mat2.sum())\n",
    "    \n",
    "    image_gray = image.convert('LA')\n",
    "    gray_array = np.array(image_gray)[:,:,0]\n",
    "    edges = feature.canny(gray_array,sigma = 3,low_threshold=5, high_threshold=20)\n",
    "    max_val = np.amax(edges)\n",
    "\n",
    "    \n",
    "    for j in range(0,edges.shape[1]):\n",
    "        for i in range(0,edges.shape[0]):\n",
    "            if edges[i][j] > .1*max_val:\n",
    "                edges[i][j] = 0\n",
    "                if edges[i+1][j] < .1*max_val:\n",
    "                    break\n",
    "        for ii in range(0,edges.shape[0]):\n",
    "            i = edges.shape[0] - ii -1\n",
    "            if edges[i][j] > .1*max_val:\n",
    "                edges[i][j] = 0\n",
    "                if edges[i-1][j] < .1*max_val:\n",
    "                    break\n",
    "                    \n",
    "    features.append(edges.sum())\n",
    "    \n",
    "    return features\n",
    "\n",
    "    \n",
    "\n",
    "    \n",
    "    "
   ]
  },
  {
   "cell_type": "code",
   "execution_count": 4,
   "metadata": {},
   "outputs": [
    {
     "name": "stdout",
     "output_type": "stream",
     "text": [
      "27558\n",
      "27558\n"
     ]
    }
   ],
   "source": [
    "image_list_infect = []\n",
    "for filename in glob.glob('./cell_images/Parasitized/*.png'):\n",
    "    im=Image.open(filename)\n",
    "    image_list_infect.append(im.copy())\n",
    "    im.close()\n",
    "    \n",
    "\n",
    "image_list_uninfect = []\n",
    "for filename in glob.glob('./cell_images/Uninfected/*.png'):\n",
    "    im=Image.open(filename)\n",
    "    image_list_uninfect.append(im.copy())\n",
    "    im.close()\n",
    "\n",
    "    \n",
    "data=[]\n",
    "data_level = []\n",
    "\n",
    "for i in range(0,len(image_list_infect)):\n",
    "    data.append(feature_computation(image_list_infect[i]))\n",
    "    data_level.append(True)\n",
    "    data.append(feature_computation(image_list_uninfect[i]))\n",
    "    data_level.append(False)\n",
    "    \n",
    "print(len(data_level))\n",
    "print(len(data))\n",
    "   "
   ]
  },
  {
   "cell_type": "code",
   "execution_count": 5,
   "metadata": {},
   "outputs": [
    {
     "name": "stdout",
     "output_type": "stream",
     "text": [
      "train data:22047 test data: 5511\n"
     ]
    }
   ],
   "source": [
    "test_length = (int)(.2*len(data))\n",
    "\n",
    "test_data = data[0:test_length]\n",
    "test_level = data_level[0:test_length]\n",
    "\n",
    "train_data = data[test_length:len(data)]\n",
    "train_level = data_level[test_length:len(data)]\n",
    "\n",
    "\n",
    "print(\"train data:\" + str(len(train_data)) + \" test data: \" + str(len(test_data)))\n",
    "\n"
   ]
  },
  {
   "cell_type": "code",
   "execution_count": 6,
   "metadata": {},
   "outputs": [
    {
     "name": "stdout",
     "output_type": "stream",
     "text": [
      "[False, True, False, True, False, True, False, True, False, True, False, True, False, True, False, True, False, True, False, True, False, True, False, True, False, True, False, True, False, True]\n"
     ]
    }
   ],
   "source": [
    "print(train_level[0:30])"
   ]
  },
  {
   "cell_type": "code",
   "execution_count": 8,
   "metadata": {},
   "outputs": [
    {
     "name": "stdout",
     "output_type": "stream",
     "text": [
      "{'n_estimators': 35}\n"
     ]
    }
   ],
   "source": [
    "from sklearn.model_selection import GridSearchCV\n",
    "from sklearn.ensemble import RandomForestClassifier\n",
    "\n",
    "param_grid = [{'n_estimators':[10,15,20,25,30,35,40,45,]}]\n",
    "\n",
    "forest_class = RandomForestClassifier()\n",
    "grid_search = GridSearchCV(forest_class,param_grid,cv=5,scoring='accuracy')\n",
    "grid_search.fit(train_data,train_level)\n",
    "\n",
    "print(grid_search.best_params_)\n",
    "\n",
    "model = grid_search.best_estimator_\n",
    "\n"
   ]
  },
  {
   "cell_type": "code",
   "execution_count": 43,
   "metadata": {},
   "outputs": [
    {
     "data": {
      "text/plain": [
       "array([1.        , 1.        , 0.99977324, 0.99977319, 1.        ])"
      ]
     },
     "execution_count": 43,
     "metadata": {},
     "output_type": "execute_result"
    }
   ],
   "source": [
    "from sklearn.model_selection import GridSearchCV\n",
    "from sklearn.ensemble import RandomForestClassifier\n",
    "from sklearn.model_selection import cross_val_score\n",
    "\n",
    "\n",
    "forest_class = RandomForestClassifier(n_estimators=1)\n",
    "\n",
    "cross_val_score(forest_class,train_data,train_level,cv=5,scoring='accuracy')\n",
    "\n",
    "\n"
   ]
  },
  {
   "cell_type": "code",
   "execution_count": 9,
   "metadata": {},
   "outputs": [
    {
     "name": "stdout",
     "output_type": "stream",
     "text": [
      "[[2265  490]\n",
      " [ 370 2386]]\n",
      "[True, False, True, False, True, False, True, False, True, False]\n",
      "[ True False  True False  True False  True False  True False]\n"
     ]
    }
   ],
   "source": [
    "from sklearn.metrics import confusion_matrix\n",
    "\n",
    "test_predict = model.predict(test_data)\n",
    "print(confusion_matrix(test_level,test_predict))\n",
    "\n",
    "print(test_level[0:10])\n",
    "print(test_predict[0:10])\n"
   ]
  },
  {
   "cell_type": "code",
   "execution_count": 11,
   "metadata": {},
   "outputs": [
    {
     "data": {
      "text/plain": [
       "['radom_forest_model.pkl']"
      ]
     },
     "execution_count": 11,
     "metadata": {},
     "output_type": "execute_result"
    }
   ],
   "source": [
    "from sklearn.externals import joblib\n",
    "\n",
    "joblib.dump(model,\"radom_forest_model.pkl\")"
   ]
  }
 ],
 "metadata": {
  "kernelspec": {
   "display_name": "Python 3",
   "language": "python",
   "name": "python3"
  },
  "language_info": {
   "codemirror_mode": {
    "name": "ipython",
    "version": 3
   },
   "file_extension": ".py",
   "mimetype": "text/x-python",
   "name": "python",
   "nbconvert_exporter": "python",
   "pygments_lexer": "ipython3",
   "version": "3.6.5"
  }
 },
 "nbformat": 4,
 "nbformat_minor": 2
}
