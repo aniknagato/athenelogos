{
 "cells": [
  {
   "cell_type": "code",
   "execution_count": 3,
   "metadata": {},
   "outputs": [],
   "source": [
    "import tensorflow as tf\n",
    "from PIL import Image\n",
    "import glob\n",
    "import numpy as np\n",
    "import scipy.ndimage.filters\n",
    "import matplotlib.pyplot as plt\n",
    "\n",
    "import pickle\n"
   ]
  },
  {
   "cell_type": "code",
   "execution_count": 4,
   "metadata": {},
   "outputs": [],
   "source": [
    "\n",
    "\n",
    "with open('./pickle/hist_lap_infect0.pickle', 'rb') as handle:\n",
    "    hist_lap_infect0 = pickle.load(handle)\n",
    "    \n",
    "    \n",
    "with open('./pickle/hist_lap_infect1.pickle', 'rb') as handle:\n",
    "    hist_lap_infect1 = pickle.load(handle)\n",
    "    \n",
    "with open('./pickle/hist_lap_infect2.pickle', 'rb') as handle:\n",
    "    hist_lap_infect2 = pickle.load(handle)\n",
    "    \n",
    "with open('./pickle/hist_lap_uninfect0.pickle', 'rb') as handle:\n",
    "    hist_lap_uninfect0 = pickle.load(handle)\n",
    "    \n",
    "with open('./pickle/hist_lap_uninfect1.pickle', 'rb') as handle:\n",
    "    hist_lap_uninfect1 = pickle.load(handle)\n",
    "    \n",
    "with open('./pickle/hist_lap_uninfect2.pickle', 'rb') as handle:\n",
    "    hist_lap_uninfect2 = pickle.load(handle)\n",
    "    \n"
   ]
  }
 ],
 "metadata": {
  "kernelspec": {
   "display_name": "Python 3",
   "language": "python",
   "name": "python3"
  },
  "language_info": {
   "codemirror_mode": {
    "name": "ipython",
    "version": 3
   },
   "file_extension": ".py",
   "mimetype": "text/x-python",
   "name": "python",
   "nbconvert_exporter": "python",
   "pygments_lexer": "ipython3",
   "version": "3.6.5"
  }
 },
 "nbformat": 4,
 "nbformat_minor": 2
}
